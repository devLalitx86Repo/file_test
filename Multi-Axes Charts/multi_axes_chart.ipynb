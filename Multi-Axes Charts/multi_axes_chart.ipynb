{
 "cells": [
  {
   "cell_type": "code",
   "execution_count": null,
   "metadata": {},
   "outputs": [],
   "source": [
    "from pptx import Presentation\n",
    "from pptx.util import Inches\n",
    "\n",
    "template = \"multi-axes.pptx\"\n",
    "# Create a PowerPoint presentation\n",
    "prs = Presentation(template)\n",
    "\n",
    "# Add a slide with a title and content layout\n",
    "slide_layout = prs.slide_layouts[24]  # Use the \"Title and Content\" layout\n",
    "slide = prs.slides.add_slide(slide_layout)\n",
    "\n",
    "# Add a title to the slide\n",
    "title = slide.shapes.title\n",
    "title.text = \"Quarterly Sales Report\""
   ]
  }
 ],
 "metadata": {
  "kernelspec": {
   "display_name": ".venv",
   "language": "python",
   "name": "python3"
  },
  "language_info": {
   "name": "python",
   "version": "3.11.3"
  }
 },
 "nbformat": 4,
 "nbformat_minor": 2
}
